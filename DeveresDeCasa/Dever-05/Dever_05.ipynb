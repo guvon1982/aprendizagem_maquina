{
  "nbformat": 4,
  "nbformat_minor": 0,
  "metadata": {
    "colab": {
      "provenance": []
    },
    "kernelspec": {
      "name": "python3",
      "display_name": "Python 3"
    },
    "language_info": {
      "name": "python"
    }
  },
  "cells": [
    {
      "cell_type": "code",
      "execution_count": null,
      "metadata": {
        "id": "q0lFjD_7zH78"
      },
      "outputs": [],
      "source": [
        "#Importar os módulos do sistema operacional\n",
        "\n",
        "import os\n",
        "import locale\n",
        "\n",
        "#Instalar pt_BR\n",
        "\n",
        "!/usr/share/locales/install-language-pack pt_BR\n",
        "!dpkg-reconfigure locales pt_BR\n",
        "\n",
        "#Reiniciar o processo Python\n",
        "\n",
        "os.kill(os.getpid(), 9)"
      ]
    },
    {
      "cell_type": "code",
      "source": [
        "import pandas as pd\n",
        "from sklearn.linear_model import LogisticRegression\n",
        "\n",
        "# ====================================================\n",
        "# PASSO 1: GERAR O ARQUIVO CSV AUTOMATICAMENTE\n",
        "# ====================================================\n",
        "dados = {\n",
        "    'IMC': [18, 22, 25, 28, 30, 32, 27, 31, 29, 35],\n",
        "    'Obeso': [False, False, False, False, True, True, False, True, False, True]\n",
        "}\n",
        "\n",
        "df = pd.DataFrame(dados)\n",
        "df.to_csv('dados_imc.csv', index=False)\n",
        "\n",
        "# ====================================================\n",
        "# PASSO 2: TREINAR O MODELO\n",
        "# ====================================================\n",
        "df = pd.read_csv('dados_imc.csv')\n",
        "df['Obeso'] = df['Obeso'].astype(int)\n",
        "\n",
        "modelo = LogisticRegression()\n",
        "modelo.fit(df[['IMC']], df['Obeso'])\n",
        "\n",
        "# ====================================================\n",
        "# PASSO 3: ANÁLISE INICIAL (EXEMPLO PRÉ-DEFINIDO)\n",
        "# ====================================================\n",
        "def prever_obesidade(imc):\n",
        "    novo_dado = pd.DataFrame({'IMC': [imc]})\n",
        "    predicao = modelo.predict(novo_dado)\n",
        "    return \"Sim\" if predicao[0] == 1 else \"Não\"\n",
        "\n",
        "# Teste inicial com IMC = 40\n",
        "print(\"\\n[Análise Inicial]\")\n",
        "print(f\"IMC: 40 → Obeso? {prever_obesidade(40)}\")\n",
        "\n",
        "# ====================================================\n",
        "# PASSO 4: LOOP INTERATIVO PARA INPUT DO USUÁRIO\n",
        "# ====================================================\n",
        "print(\"\\n[Modo Interativo]\")\n",
        "while True:\n",
        "    entrada = input(\"\\nDigite um IMC (ou 'sair' para encerrar): \")\n",
        "\n",
        "    if entrada.lower() == 'sair':\n",
        "        print(\"Programa encerrado.\")\n",
        "        break\n",
        "\n",
        "    try:\n",
        "        imc = float(entrada)\n",
        "        resultado = prever_obesidade(imc)\n",
        "        print(f\"IMC: {imc} → Obeso? {resultado}\")\n",
        "    except ValueError:\n",
        "        print(\"Erro: Insira um valor numérico válido (ex: 25.5).\")"
      ],
      "metadata": {
        "id": "iBw_ktDI1jaz"
      },
      "execution_count": null,
      "outputs": []
    }
  ]
}