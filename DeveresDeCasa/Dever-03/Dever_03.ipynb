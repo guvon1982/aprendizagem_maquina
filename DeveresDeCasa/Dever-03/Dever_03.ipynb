{
  "nbformat": 4,
  "nbformat_minor": 0,
  "metadata": {
    "colab": {
      "provenance": []
    },
    "kernelspec": {
      "name": "python3",
      "display_name": "Python 3"
    },
    "language_info": {
      "name": "python"
    }
  },
  "cells": [
    {
      "cell_type": "code",
      "execution_count": null,
      "metadata": {
        "id": "k7mUPYU_x3EE"
      },
      "outputs": [],
      "source": [
        "#Importar os módulos do sistema operacional\n",
        "\n",
        "import os\n",
        "import locale\n",
        "\n",
        "#Instalar pt_BR\n",
        "\n",
        "!/usr/share/locales/install-language-pack pt_BR\n",
        "!dpkg-reconfigure locales pt_BR\n",
        "\n",
        "#Reiniciar o processo Python\n",
        "\n",
        "os.kill(os.getpid(), 9)"
      ]
    },
    {
      "cell_type": "code",
      "source": [
        "import csv\n",
        "\n",
        "# Função para ler o arquivo CSV e retornar os dados em uma lista\n",
        "def ler_dados_csv():\n",
        "    lista_dados = []\n",
        "    with open(\"dados.csv\", mode=\"r\", encoding=\"utf-8\") as arquivo:\n",
        "        leitor = csv.reader(arquivo)\n",
        "        next(leitor)  # Pular o cabeçalho (Nome, Idade)\n",
        "        for linha in leitor:\n",
        "            lista_dados.append([linha[0], int(linha[1])])  # Armazenar nome e idade (convertida para int)\n",
        "    return lista_dados\n",
        "\n",
        "# Função para encontrar a idade máxima (pessoa mais velha)\n",
        "def encontrar_idade_maxima(lista_dados):\n",
        "    idades = [pessoa[1] for pessoa in lista_dados]\n",
        "    return max(idades)\n",
        "\n",
        "# Função para validar a resposta do usuário (sim/não)\n",
        "def validar_resposta(resposta):\n",
        "    return resposta.strip().lower() in [\"sim\", \"não\"]\n",
        "\n",
        "# Função principal\n",
        "def main():\n",
        "    # Ler os dados do arquivo CSV\n",
        "    lista_dados = ler_dados_csv()\n",
        "    idade_maxima = encontrar_idade_maxima(lista_dados)\n",
        "\n",
        "    # Exibir a lista de nomes e idades\n",
        "    print(\"\\nTítulo: Lista de Nomes\")\n",
        "    print(\"=\" * 30)\n",
        "    for pessoa in lista_dados:\n",
        "        print(f\"{pessoa[0]} - {pessoa[1]} anos\")\n",
        "    print(\"=\" * 30)\n",
        "\n",
        "    while True:\n",
        "        # Solicitar o nome ao usuário\n",
        "        nome_usuario = input(\"\\nDigite um nome: \")\n",
        "\n",
        "        # Verificar se o nome está na lista\n",
        "        encontrado = False\n",
        "        for pessoa in lista_dados:\n",
        "            if pessoa[0].lower() == nome_usuario.lower():  # Comparação case-insensitive\n",
        "                encontrado = True\n",
        "                nome, idade = pessoa\n",
        "                if idade == idade_maxima:\n",
        "                    print(f\"{nome} tem {idade} anos e é a pessoa mais velha da lista.\")\n",
        "                else:\n",
        "                    print(f\"{nome} tem {idade} anos, não é a pessoa mais velha da lista.\")\n",
        "                break\n",
        "\n",
        "        # Caso o nome não seja encontrado\n",
        "        if not encontrado:\n",
        "            print(\"Nome não encontrado.\")\n",
        "\n",
        "        # Perguntar se o usuário deseja continuar (com validação)\n",
        "        while True:\n",
        "            continuar = input(\"\\nDeseja fazer uma nova pesquisa? (sim/não): \").strip().lower()\n",
        "            if validar_resposta(continuar):  # Verifica se a resposta é \"sim\" ou \"não\"\n",
        "                break\n",
        "            else:\n",
        "                print(\"Digite apenas sim ou não.\")\n",
        "\n",
        "        # Encerrar o programa se a resposta for \"não\"\n",
        "        if continuar == \"não\":\n",
        "            print(\"Encerrando o programa...\")\n",
        "            break\n",
        "\n",
        "# Executar o programa\n",
        "if __name__ == \"__main__\":\n",
        "    main()"
      ],
      "metadata": {
        "id": "cl1CjPJC2UCT"
      },
      "execution_count": null,
      "outputs": []
    }
  ]
}