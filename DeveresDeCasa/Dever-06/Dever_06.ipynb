{
  "nbformat": 4,
  "nbformat_minor": 0,
  "metadata": {
    "colab": {
      "provenance": []
    },
    "kernelspec": {
      "name": "python3",
      "display_name": "Python 3"
    },
    "language_info": {
      "name": "python"
    }
  },
  "cells": [
    {
      "cell_type": "code",
      "execution_count": null,
      "metadata": {
        "id": "9ZgYQoHJI2bQ"
      },
      "outputs": [],
      "source": [
        "#Importar os módulos do sistema operacional\n",
        "\n",
        "import os\n",
        "import locale\n",
        "\n",
        "#Instalar pt_BR\n",
        "\n",
        "!/usr/share/locales/install-language-pack pt_BR\n",
        "!dpkg-reconfigure locales pt_BR\n",
        "\n",
        "#Reiniciar o processo Python\n",
        "\n",
        "os.kill(os.getpid(), 9)"
      ]
    },
    {
      "cell_type": "code",
      "source": [
        "from sklearn.datasets import load_iris\n",
        "from sklearn.neighbors import KNeighborsClassifier\n",
        "from sklearn.metrics import accuracy_score\n",
        "\n",
        "def main():\n",
        "    # 1. Carregar dados do Iris\n",
        "    iris = load_iris()\n",
        "    X, y = iris.data, iris.target\n",
        "    nomes_especies = iris.target_names\n",
        "\n",
        "    # 2. Instanciar o classificador KNN com k=3\n",
        "    knn = KNeighborsClassifier(n_neighbors=3)\n",
        "\n",
        "    # 3. Treinar o modelo com todo o conjunto Iris\n",
        "    knn.fit(X, y)\n",
        "\n",
        "    # 4. Avaliar acurácia no próprio conjunto de treino\n",
        "    y_pred = knn.predict(X)\n",
        "    acc = accuracy_score(y, y_pred)\n",
        "    print(f\"Acurácia no conjunto Iris (treino): {acc:.2f}\\n\")\n",
        "\n",
        "    # 5. Solicitar as quatro medidas separadamente\n",
        "    try:\n",
        "        sl = float(input(\"Digite o comprimento da sépala (cm): \"))\n",
        "        sw = float(input(\"Digite a largura da sépala   (cm): \"))\n",
        "        pl = float(input(\"Digite o comprimento da pétala(cm): \"))\n",
        "        pw = float(input(\"Digite a largura da pétala   (cm): \"))\n",
        "    except ValueError:\n",
        "        print(\"Entrada inválida. Por favor, digite um número válido para cada medida.\")\n",
        "        return\n",
        "\n",
        "    # 6. Fazer a predição\n",
        "    nova_amostra = [[sl, sw, pl, pw]]\n",
        "    indice_pred = knn.predict(nova_amostra)[0]\n",
        "    especie_predita = nomes_especies[indice_pred]\n",
        "\n",
        "    # 7. Exibir o resultado só agora\n",
        "    print(\n",
        "        \"\\nMedidas informadas:\"\n",
        "        f\"\\n  Sépala → comprimento: {sl} cm, largura: {sw} cm\"\n",
        "        f\"\\n  Pétala → comprimento: {pl} cm, largura: {pw} cm\"\n",
        "    )\n",
        "    print(f\"\\nEspécie prevista: {especie_predita}\")\n",
        "\n",
        "if __name__ == \"__main__\":\n",
        "    main()"
      ],
      "metadata": {
        "id": "b9fEVdWuJv77"
      },
      "execution_count": null,
      "outputs": []
    }
  ]
}