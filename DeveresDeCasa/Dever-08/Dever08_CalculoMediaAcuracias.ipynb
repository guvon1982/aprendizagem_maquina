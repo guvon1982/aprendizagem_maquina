{
  "nbformat": 4,
  "nbformat_minor": 0,
  "metadata": {
    "colab": {
      "provenance": []
    },
    "kernelspec": {
      "name": "python3",
      "display_name": "Python 3"
    },
    "language_info": {
      "name": "python"
    }
  },
  "cells": [
    {
      "cell_type": "code",
      "execution_count": 1,
      "metadata": {
        "colab": {
          "base_uri": "https://localhost:8080/"
        },
        "id": "jiCilx_KOhFs",
        "outputId": "4810ac2a-8a01-47da-808f-e73f74543c32"
      },
      "outputs": [
        {
          "output_type": "stream",
          "name": "stdout",
          "text": [
            "Média das acurácias com K=5: 0.9733\n"
          ]
        }
      ],
      "source": [
        "# Importa o dataset Iris do scikit-learn\n",
        "from sklearn.datasets import load_iris\n",
        "\n",
        "# Importa o modelo de Regressão Logística\n",
        "from sklearn.linear_model import LogisticRegression\n",
        "\n",
        "# Importa o KFold para validação cruzada\n",
        "from sklearn.model_selection import KFold\n",
        "\n",
        "# Importa função para calcular acurácia\n",
        "from sklearn.metrics import accuracy_score\n",
        "\n",
        "# Importa o NumPy para cálculo da média\n",
        "import numpy as np\n",
        "\n",
        "# Carrega os dados: X são as características, y são os rótulos (espécies de flores)\n",
        "X, y = load_iris(return_X_y=True)\n",
        "\n",
        "# Define o número de partes (folds) para a validação cruzada\n",
        "K = 5\n",
        "\n",
        "# Inicializa o KFold com 5 divisões, embaralhamento e uma semente para reprodutibilidade\n",
        "kf = KFold(n_splits=K, shuffle=True, random_state=42)\n",
        "\n",
        "# Lista para armazenar a acurácia de cada uma das 5 execuções\n",
        "accuracies = []\n",
        "\n",
        "# Loop que percorre cada divisão dos dados (K iterações)\n",
        "for train_index, test_index in kf.split(X):\n",
        "    # Separa os dados de treino e teste conforme os índices retornados pelo KFold\n",
        "    X_train, X_test = X[train_index], X[test_index]\n",
        "    y_train, y_test = y[train_index], y[test_index]\n",
        "\n",
        "    # Cria o modelo de Regressão Logística, com um número de iterações suficiente para garantir convergência\n",
        "    model = LogisticRegression(max_iter=200)\n",
        "\n",
        "    # Treina o modelo com os dados de treino\n",
        "    model.fit(X_train, y_train)\n",
        "\n",
        "    # Realiza previsões com os dados de teste\n",
        "    y_pred = model.predict(X_test)\n",
        "\n",
        "    # Calcula a acurácia da iteração e armazena na lista\n",
        "    acc = accuracy_score(y_test, y_pred)\n",
        "    accuracies.append(acc)\n",
        "\n",
        "# Calcula a média das acurácias das 5 iterações\n",
        "mean_accuracy = np.mean(accuracies)\n",
        "\n",
        "# Imprime o resultado final\n",
        "print(f\"Média das acurácias com K={K}: {mean_accuracy:.4f}\")\n"
      ]
    }
  ]
}