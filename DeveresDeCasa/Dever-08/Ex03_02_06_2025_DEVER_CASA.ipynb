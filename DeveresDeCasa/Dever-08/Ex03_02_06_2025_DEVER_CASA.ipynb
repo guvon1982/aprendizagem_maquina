{
  "nbformat": 4,
  "nbformat_minor": 0,
  "metadata": {
    "colab": {
      "provenance": []
    },
    "kernelspec": {
      "name": "python3",
      "display_name": "Python 3"
    },
    "language_info": {
      "name": "python"
    }
  },
  "cells": [
    {
      "cell_type": "code",
      "execution_count": 3,
      "metadata": {
        "colab": {
          "base_uri": "https://localhost:8080/"
        },
        "id": "Gbjw64vpJ36n",
        "outputId": "cfbf273d-1880-4de9-eed2-fc517b4445fd"
      },
      "outputs": [
        {
          "output_type": "stream",
          "name": "stdout",
          "text": [
            "| Unnamed: 0   | TV    | radio   | newspaper   | sales   |\n",
            "|:-------------|:------|:--------|:------------|:--------|\n",
            "| 1            | 230.1 | 37.8    | 69.2        | 22.1    |\n",
            "| 2            | 44.5  | 39.3    | 45.1        | 10.4    |\n",
            "| 3            | 17.2  | 45.9    | 69.3        | 9.3     |\n",
            "| 4            | 151.5 | 41.3    | 58.5        | 18.5    |\n",
            "| 5            | 180.8 | 10.8    | 58.4        | 12.9    |\n",
            "<class 'pandas.core.frame.DataFrame'>\n",
            "RangeIndex: 200 entries, 0 to 199\n",
            "Data columns (total 5 columns):\n",
            " #   Column      Non-Null Count  Dtype  \n",
            "---  ------      --------------  -----  \n",
            " 0   Unnamed: 0  200 non-null    int64  \n",
            " 1   TV          200 non-null    float64\n",
            " 2   radio       200 non-null    float64\n",
            " 3   newspaper   200 non-null    float64\n",
            " 4   sales       200 non-null    float64\n",
            "dtypes: float64(4), int64(1)\n",
            "memory usage: 7.9 KB\n",
            "None\n"
          ]
        }
      ],
      "source": [
        "import pandas as pd\n",
        "\n",
        "pd.set_option('display.max_rows', None)\n",
        "pd.set_option('display.max_columns', None)\n",
        "\n",
        "# Read the CSV file into a DataFrame\n",
        "df = pd.read_csv('Advertising.csv')\n",
        "\n",
        "# Display the first 5 rows\n",
        "print(df.head().to_markdown(index=False, numalign=\"left\", stralign=\"left\"))\n",
        "\n",
        "# Print the column names and their data types\n",
        "print(df.info())"
      ]
    },
    {
      "cell_type": "code",
      "source": [
        "from sklearn.model_selection import train_test_split\n",
        "from sklearn.linear_model import LinearRegression\n",
        "from sklearn import metrics\n",
        "import numpy as np\n",
        "\n",
        "# Drop the first column `Unnamed: 0`\n",
        "publi = df.drop(columns=['Unnamed: 0'])\n",
        "\n",
        "# Independent variables\n",
        "X = publi[['TV', 'radio', 'newspaper']]\n",
        "\n",
        "# Dependent variable\n",
        "y = publi['sales']\n",
        "\n",
        "# Split the data into training and testing sets (75% train, 25% test)\n",
        "X_treino, X_teste, y_treino, y_teste = train_test_split(X, y, test_size=0.25, random_state=42)\n",
        "\n",
        "# Create a Linear Regression model\n",
        "reglin = LinearRegression()\n",
        "\n",
        "# Train the model\n",
        "reglin.fit(X_treino, y_treino)\n",
        "\n",
        "# Make predictions on the test set\n",
        "y_prev = reglin.predict(X_teste)\n",
        "\n",
        "# Calculate the Root Mean Squared Error (RMSE)\n",
        "rmse = np.sqrt(metrics.mean_squared_error(y_teste, y_prev))\n",
        "\n",
        "# Print the RMSE\n",
        "print(f'Root Mean Square Error (RMSE): {rmse}')"
      ],
      "metadata": {
        "colab": {
          "base_uri": "https://localhost:8080/"
        },
        "id": "viZB2HvNKG1-",
        "outputId": "6d5b7d76-2167-4238-e7ce-ec98124e46de"
      },
      "execution_count": 4,
      "outputs": [
        {
          "output_type": "stream",
          "name": "stdout",
          "text": [
            "Root Mean Square Error (RMSE): 1.697063266379363\n"
          ]
        }
      ]
    },
    {
      "cell_type": "code",
      "source": [
        "from sklearn.datasets import load_iris\n",
        "from sklearn.model_selection import KFold\n",
        "from sklearn.linear_model import LogisticRegression\n",
        "from sklearn.metrics import accuracy_score\n",
        "import numpy as np\n",
        "from sklearn.multiclass import OneVsRestClassifier  # Importe esta classe\n",
        "\n",
        "# Carregar o conjunto de dados Iris\n",
        "iris = load_iris()\n",
        "X = iris.data\n",
        "y = iris.target\n",
        "\n",
        "# Definir o número de folds (K=5)\n",
        "kf = KFold(n_splits=5, shuffle=True, random_state=42)  # shuffle=True para embaralhar os dados\n",
        "\n",
        "# Lista para armazenar as acurácias de cada fold\n",
        "accuracies = []\n",
        "\n",
        "# Loop para cada fold\n",
        "for train_index, val_index in kf.split(X):\n",
        "    X_train, X_val = X[train_index], X[val_index]\n",
        "    y_train, y_val = y[train_index], y[val_index]\n",
        "\n",
        "    # Criar e treinar o modelo de Regressão Logística\n",
        "    logreg = OneVsRestClassifier(LogisticRegression(solver='liblinear', random_state=42))  # Use OneVsRestClassifier\n",
        "    logreg.fit(X_train, y_train)\n",
        "\n",
        "    # Fazer previsões no fold de validação\n",
        "    y_pred = logreg.predict(X_val)\n",
        "\n",
        "    # Calcular a acurácia para este fold\n",
        "    acc = accuracy_score(y_val, y_pred)\n",
        "    accuracies.append(acc)\n",
        "\n",
        "# Calcular a média das acurácias\n",
        "average_accuracy = np.mean(accuracies)\n",
        "\n",
        "# Imprimir a média das acurácias\n",
        "print(f\"Média das acurácias com K=5: {average_accuracy}\")"
      ],
      "metadata": {
        "id": "QKVxMgP0Lj7J",
        "outputId": "b99e4673-1e86-4fff-c529-f59cb3f99deb",
        "colab": {
          "base_uri": "https://localhost:8080/"
        }
      },
      "execution_count": 5,
      "outputs": [
        {
          "output_type": "stream",
          "name": "stdout",
          "text": [
            "Média das acurácias com K=5: 0.96\n"
          ]
        }
      ]
    }
  ]
}