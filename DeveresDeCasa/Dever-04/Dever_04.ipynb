{
  "nbformat": 4,
  "nbformat_minor": 0,
  "metadata": {
    "colab": {
      "provenance": []
    },
    "kernelspec": {
      "name": "python3",
      "display_name": "Python 3"
    },
    "language_info": {
      "name": "python"
    }
  },
  "cells": [
    {
      "cell_type": "code",
      "execution_count": null,
      "metadata": {
        "id": "LOAL5T4yt6aj"
      },
      "outputs": [],
      "source": [
        "#Importar os módulos do sistema operacional\n",
        "\n",
        "import os\n",
        "import locale\n",
        "\n",
        "#Instalar pt_BR\n",
        "\n",
        "!/usr/share/locales/install-language-pack pt_BR\n",
        "!dpkg-reconfigure locales pt_BR\n",
        "\n",
        "#Reiniciar o processo Python\n",
        "\n",
        "os.kill(os.getpid(), 9)"
      ]
    },
    {
      "cell_type": "code",
      "source": [
        "import random\n",
        "import pandas as pd\n",
        "from google.colab import files\n",
        "\n",
        "# 1. Criar a lista de frutas\n",
        "frutas = [\"maçã\", \"banana\", \"laranja\", \"uva\", \"maçã\", \"melão\", \"mamão\", \"banana\"]\n",
        "\n",
        "# 2. Gravar as frutas com quantidades aleatórias no arquivo\n",
        "with open(\"minhas_frutas.txt\", \"w\", encoding=\"utf-8\") as arquivo:\n",
        "    for fruta in frutas:\n",
        "        quantidade = random.randint(0, 100)  # Gera um número aleatório entre 0 e 100\n",
        "        arquivo.write(f\"{fruta},{quantidade}\\n\")  # Grava no formato \"fruta,quantidade\"\n",
        "\n",
        "print(\"Arquivo 'minhas_frutas.txt' criado com sucesso!\")\n",
        "\n",
        "# 3. Fazer o download do arquivo\n",
        "files.download(\"minhas_frutas.txt\")\n",
        "\n",
        "# 4. Ler o arquivo e listar as informações no console\n",
        "print(\"\\nConteúdo do arquivo 'minhas_frutas.txt':\")\n",
        "with open(\"minhas_frutas.txt\", \"r\", encoding=\"utf-8\") as arquivo:\n",
        "    for linha in arquivo:\n",
        "        print(linha.strip())  # Exibe cada linha do arquivo\n",
        "\n",
        "# 5. Processar os dados para criar o DataFrame\n",
        "dados = []\n",
        "with open(\"minhas_frutas.txt\", \"r\", encoding=\"utf-8\") as arquivo:\n",
        "    for linha in arquivo:\n",
        "        fruta, quantidade = linha.strip().split(\",\")\n",
        "        dados.append([fruta, int(quantidade)])  # Armazena como [fruta, quantidade]\n",
        "\n",
        "# 6. Criar um DataFrame com os dados\n",
        "df = pd.DataFrame(dados, columns=[\"Fruta\", \"Quantidade\"])\n",
        "\n",
        "# 7. Somar as quantidades das frutas repetidas\n",
        "df_agrupado = df.groupby(\"Fruta\").sum().reset_index()\n",
        "\n",
        "# 8. Ordenar as frutas em ordem crescente (alfabética)\n",
        "df_agrupado = df_agrupado.sort_values(by=\"Fruta\", ascending=True)\n",
        "\n",
        "# 9. Exibir o DataFrame final\n",
        "print(\"\\nDataFrame com as frutas e quantidades somadas:\\n\")  # Adicionando uma linha em branco\n",
        "print(df_agrupado)"
      ],
      "metadata": {
        "id": "sFIRtGWSvGg0"
      },
      "execution_count": null,
      "outputs": []
    }
  ]
}