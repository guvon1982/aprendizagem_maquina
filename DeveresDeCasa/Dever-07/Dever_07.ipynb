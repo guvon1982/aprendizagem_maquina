{
  "nbformat": 4,
  "nbformat_minor": 0,
  "metadata": {
    "colab": {
      "provenance": []
    },
    "kernelspec": {
      "name": "python3",
      "display_name": "Python 3"
    },
    "language_info": {
      "name": "python"
    }
  },
  "cells": [
    {
      "cell_type": "code",
      "execution_count": null,
      "metadata": {
        "id": "4bHL3TS7YAwp"
      },
      "outputs": [],
      "source": [
        "#Importar os módulos do sistema operacional\n",
        "\n",
        "import os\n",
        "import locale\n",
        "\n",
        "#Instalar pt_BR\n",
        "\n",
        "!/usr/share/locales/install-language-pack pt_BR\n",
        "!dpkg-reconfigure locales pt_BR\n",
        "\n",
        "#Reiniciar o processo Python\n",
        "\n",
        "os.kill(os.getpid(), 9)"
      ]
    },
    {
      "cell_type": "code",
      "source": [
        "# Importando as bibliotecas necessárias\n",
        "from sklearn.datasets import load_iris\n",
        "from sklearn.model_selection import train_test_split\n",
        "\n",
        "# Carregando o dataset Iris\n",
        "iris = load_iris()\n",
        "X = iris.data\n",
        "y = iris.target\n",
        "\n",
        "# Dividindo os dados - 40% treino, 60% teste\n",
        "X_train, X_test, y_train, y_test = train_test_split(X, y, train_size=0.4, random_state=42)\n",
        "\n",
        "# Exibindo a quantidade de itens no conjunto de teste\n",
        "print(\"Quantidade de amostras no conjunto de teste:\", len(X_test))"
      ],
      "metadata": {
        "id": "ZO0iqvMqYLiT",
        "outputId": "c2325b36-9812-49bc-c4f1-9935db68268d",
        "colab": {
          "base_uri": "https://localhost:8080/"
        }
      },
      "execution_count": null,
      "outputs": [
        {
          "output_type": "stream",
          "name": "stdout",
          "text": [
            "Quantidade de amostras no conjunto de teste: 90\n"
          ]
        }
      ]
    }
  ]
}