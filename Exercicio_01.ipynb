{
  "nbformat": 4,
  "nbformat_minor": 0,
  "metadata": {
    "colab": {
      "provenance": [],
      "mount_file_id": "1BTqrm4kQDP5M67lpun7ayzLHE7S3FvrB",
      "authorship_tag": "ABX9TyPC5EB2uls4E4RCIVY8UyjZ",
      "include_colab_link": true
    },
    "kernelspec": {
      "name": "python3",
      "display_name": "Python 3"
    },
    "language_info": {
      "name": "python"
    }
  },
  "cells": [
    {
      "cell_type": "markdown",
      "metadata": {
        "id": "view-in-github",
        "colab_type": "text"
      },
      "source": [
        "<a href=\"https://colab.research.google.com/github/guvon1982/aprendizagem_maquina/blob/main/Exercicio_01.ipynb\" target=\"_parent\"><img src=\"https://colab.research.google.com/assets/colab-badge.svg\" alt=\"Open In Colab\"/></a>"
      ]
    },
    {
      "cell_type": "code",
      "source": [
        "# Importar os módulos do sistema operacional\n",
        "import os\n",
        "import locale\n",
        "\n",
        "# Instalar pt_BR\n",
        "!/usr/share/locales/install-language-pack pt_BR\n",
        "!dpkg-reconfigure locales pt_BR\n",
        "\n",
        "# Reiniciar o processo Python\n",
        "os.kill(os.getpid(), 9)"
      ],
      "metadata": {
        "colab": {
          "base_uri": "https://localhost:8080/"
        },
        "id": "1m821YmK9GZF",
        "outputId": "83d1e363-b32b-4200-9f8e-4bb82be6e6a0"
      },
      "execution_count": null,
      "outputs": [
        {
          "output_type": "stream",
          "name": "stdout",
          "text": [
            "Generating locales (this might take a while)...\n",
            "Generation complete.\n",
            "\u001b[1mdpkg-trigger:\u001b[0m \u001b[1;31merror:\u001b[0m must be called from a maintainer script (or with a --by-package option)\n",
            "\n",
            "Type dpkg-trigger --help for help about this utility.\n",
            "Generating locales (this might take a while)...\n",
            "  en_US.UTF-8... done\n",
            "  pt_BR.ISO-8859-1..."
          ]
        }
      ]
    },
    {
      "cell_type": "code",
      "source": [
        "# Definições e funções para todos os exemplos\n",
        "# encoding: iso-8859-1\n",
        "\n",
        "from datetime import datetime\n",
        "import random\n",
        "\n",
        "\n",
        "\n",
        "# Ajustando a localização para o Brasil\n",
        "import os\n",
        "import locale\n",
        "locale.setlocale(locale.LC_ALL, 'pt_BR')\n",
        "from datetime import datetime\n",
        "import pytz\n",
        "\n",
        "import pandas as pd\n",
        "\n",
        "# Define o fuso horário para o Brasil (Brasília)\n",
        "con_fuso_horario = pytz.timezone(\"America/Sao_Paulo\")\n",
        "\n",
        "conSeparador= \"\\nXXXXXXXXXXXXX---XXXXXXXXXXXXX\\n\"\n",
        "\n",
        "# Função formatar tempo de execução (dado tempo de inicio e fim, retorna h:m:milisegundos formatado)\n",
        "def formata_tempo_execucao (dttInicio, dttfim):\n",
        "    strTempo = dttfim - dttInicio\n",
        "    str_tempo_execucao_formatado = \"{:02d}:{:02d}.{:06d}\".format(\n",
        "    strTempo.seconds // 60,  # Minutos\n",
        "    strTempo.seconds % 60,  # Segundos\n",
        "    strTempo.microseconds  # Microsegundos\n",
        "    )\n",
        "    return str_tempo_execucao_formatado\n",
        "\n",
        "def formata_data(dttParametro):\n",
        "  return dttParametro.strftime(\"%d/%m/%Y - %H:%M:%S.%f\")\n",
        "\n",
        "def formata_numero(numero):\n",
        "    return locale.format_string(\"%d\", numero, grouping=True)\n",
        "\n",
        "# Cria um array do tamanho intElementosArray, valores inteiros entre intMin e intMax)\n",
        "def montar_array (intElementosArray,intMin, intMax):\n",
        "  x = 0\n",
        "  array = []\n",
        "  while x < intTamArray:\n",
        "    intElementosArray = random.randint(intMin,intMax)\n",
        "    array.append (intElementosArray)\n",
        "    x += 1\n",
        "  return (array)\n",
        "\n",
        "def ler_inteiro (strMensagem):\n",
        "  while True:\n",
        "    try:      # Se nenhuma exceção ocorrer, a cláusula except é ignorada e a execução da instrução try é finalizada\n",
        "      tamanho = int(input(strMensagem))\n",
        "      break  # Se a entrada for válida, sai do loop e finaliza o programa\n",
        "    except ValueError:\n",
        "      print(\"Erro: Por favor, digite um número inteiro valido.\")\n",
        "  return tamanho\n",
        "\n",
        "\n",
        "def carregar_array():\n",
        "    arrMeuArray = []\n",
        "    while True:\n",
        "        entrada = input(\"Digite um número inteiro para o array (-1 para sair): \")\n",
        "        try:\n",
        "            numero = int(entrada)\n",
        "        except ValueError:\n",
        "            print(\"Por favor, digite um número inteiro válido.\")\n",
        "            continue\n",
        "        if numero == -1:\n",
        "            break\n",
        "        arrMeuArray.append(numero)\n",
        "        print (f\"O array atual tem {str(len(arrMeuArray))}. Seu conteúdo é \\n\")\n",
        "        print (arrMeuArray)\n",
        "    return arrMeuArray\n",
        "\n",
        "def marcar_inicio (strMensagem):\n",
        "  dttInicio = datetime.now(con_fuso_horario)\n",
        "  dttInicioFormatado = formata_data(dttInicio)\n",
        "  print(f\"Iniciando {strMensagem} as : \" + str(dttInicioFormatado))\n",
        "  return dttInicio\n",
        "\n",
        "def marcar_fim (strMensagem):\n",
        "  dttFim = datetime.now(con_fuso_horario)\n",
        "  dttFimFormatado = formata_data (dttFim)\n",
        "  print(f\"Finalizando {strMensagem} as : \" + str(dttFimFormatado))\n",
        "  return dttFim\n",
        "\n",
        "def ler_arquivo_csv_para_lista(nome_arquivo):\n",
        "    try:\n",
        "        dados = pd.read_csv(nome_arquivo)\n",
        "        return dados.values.tolist()  # Converte o DataFrame para uma lista de listas\n",
        "    except FileNotFoundError:\n",
        "        print(f\"Erro: Arquivo '{nome_arquivo}' não encontrado.\")\n",
        "        return None"
      ],
      "metadata": {
        "id": "tttrMGSs-YN5"
      },
      "execution_count": 1,
      "outputs": []
    },
    {
      "cell_type": "code",
      "source": [
        "# Código para criar o arquivo CSV\n",
        "import csv\n",
        "\n",
        "# Dados que serão escritos no arquivo CSV\n",
        "# Código para criar o arquivo CSV\n",
        "import csv\n",
        "\n",
        "# Dados que serão escritos no arquivo CSV\n",
        "dados = [\n",
        "    [\"nome\", \"dataNasc\", \"dataCadastro\", \"horaCadastro\"],\n",
        "    [\"João Silva\",\"03/23/1980\",\"2023/05/12\",\"08:15\"],\n",
        "    [\"Maria Santos\",\"08/23/1985\",\"2022/08/23\",\"12:30\"],\n",
        "    [\"Pedro Oliveira\",\"03/04/1999\",\"2021/03/04\",\"14:45\"],\n",
        "    [\"Ana Souza\",\"11/15/1988\",\"2020/11/15\",\"09:00\"],\n",
        "    [\"Lucas Rodrigues\",\"07/30/1993\",\"2019/07/30\",\"17:20\"],\n",
        "    [\"Julia Ferreira\",\"02/14/1987\",\"2018/02/14\",\"06:55\"],\n",
        "    [\"Gabriel Alves\",\"09/01/1995\",\"2017/09/01\",\"23:10\"],\n",
        "    [\"Laura Pereira\",\"04/22/1991\",\"2016/04/22\",\"10:25\"],\n",
        "    [\"Mateus Lima\",\"12/07/1984\",\"2015/12/07\",\"19:40\"],\n",
        "    [\"Sofia Costa\",\"06/18/1996\",\"2014/06/18\",\"03:05\"]\n",
        "]\n",
        "\n",
        "# Escrever os dados no arquivo CSV\n",
        "with open(\"Exercicio_01.csv\", mode=\"w\", newline=\"\", encoding=\"utf-8\") as arquivo:\n",
        "  escritor = csv.writer(arquivo)\n",
        "  escritor.writerows(dados)\n",
        "\n",
        "print(\"Arquivo CSV criado com sucesso!\")"
      ],
      "metadata": {
        "colab": {
          "base_uri": "https://localhost:8080/"
        },
        "id": "QDl-JPnFB-2D",
        "outputId": "10ee5c64-8dcc-41b8-b418-c14fb5fd94cc"
      },
      "execution_count": 2,
      "outputs": [
        {
          "output_type": "stream",
          "name": "stdout",
          "text": [
            "Arquivo CSV criado com sucesso!\n"
          ]
        }
      ]
    },
    {
      "cell_type": "code",
      "source": [
        "# Código para ler o arquivo CSV\n",
        "import csv\n",
        "\n",
        "# Ler o arquivo CSV\n",
        "with open(\"Exercicio_01.csv\", mode=\"r\", encoding=\"utf-8\") as arquivo:\n",
        "  leitor = csv.reader(arquivo)\n",
        "  registros = list(leitor)\n",
        "\n",
        "# Exibir os registros lidos\n",
        "for registro in registros:\n",
        "  print(registro)\n"
      ],
      "metadata": {
        "colab": {
          "base_uri": "https://localhost:8080/"
        },
        "id": "sV7nWAuMFgXg",
        "outputId": "9fbb7301-d95d-4e20-9f11-ab49e166585c"
      },
      "execution_count": 3,
      "outputs": [
        {
          "output_type": "stream",
          "name": "stdout",
          "text": [
            "['nome', 'dataNasc', 'dataCadastro', 'horaCadastro']\n",
            "['João Silva', '03/23/1980', '2023/05/12', '08:15']\n",
            "['Maria Santos', '08/23/1985', '2022/08/23', '12:30']\n",
            "['Pedro Oliveira', '03/04/1999', '2021/03/04', '14:45']\n",
            "['Ana Souza', '11/15/1988', '2020/11/15', '09:00']\n",
            "['Lucas Rodrigues', '07/30/1993', '2019/07/30', '17:20']\n",
            "['Julia Ferreira', '02/14/1987', '2018/02/14', '06:55']\n",
            "['Gabriel Alves', '09/01/1995', '2017/09/01', '23:10']\n",
            "['Laura Pereira', '04/22/1991', '2016/04/22', '10:25']\n",
            "['Mateus Lima', '12/07/1984', '2015/12/07', '19:40']\n",
            "['Sofia Costa', '06/18/1996', '2014/06/18', '03:05']\n"
          ]
        }
      ]
    },
    {
      "cell_type": "code",
      "source": [
        "# Código para ler o arquivo CSV e exibir o registro solicitado\n",
        "import csv\n",
        "\n",
        "# Ler o arquivo CSV\n",
        "with open(\"Exercicio_01.csv\", mode=\"r\", encoding=\"utf-8\") as arquivo:\n",
        "    leitor = csv.reader(arquivo)\n",
        "    registros = list(leitor)\n",
        "\n",
        "# Solicitar o número do registro ao usuário\n",
        "try:\n",
        "  n = int(input(\"Digite o número do registro que deseja exibir (1 a 10): \"))\n",
        "  if n < 1 or n > 10:\n",
        "    print(\"Número de registro inválido. Por favor, digite um número entre 1 e 10.\")\n",
        "\n",
        "  else:\n",
        "    # Acessar o registro solicitado (subtraímos 1 porque a lista começa em 0)\n",
        "    registro = registros[n]\n",
        "\n",
        "     # Converter a data de nascimento para o padrão brasileiro (dd/mm/aaaa)\n",
        "    dataNasc = registro[1].split(\"/\")\n",
        "    dataNascBr = f\"{dataNasc[1]}/{dataNasc[0]}/{dataNasc[2]}\"\n",
        "\n",
        "    # Converter a data de cadastro para o padrão brasileiro (dd/mm/aaaa)\n",
        "    data_Cadastro = registro[2].split(\"/\")\n",
        "    data_Cadastro_Br = f\"{data_Cadastro[2]}/{data_Cadastro[1]}/{data_Cadastro[0]}\"\n",
        "\n",
        "    # Exibir o registro no formato solicitado\n",
        "    print(f\"Registro {n}: Nome: {registro[0]}, Data de Nascimento: {dataNascBr}, Data de Cadastro: {data_Cadastro_Br} às {registro[3]} horas\")\n",
        "\n",
        "except ValueError:\n",
        "    print(\"Entrada inválida. Digite um número.\")"
      ],
      "metadata": {
        "colab": {
          "base_uri": "https://localhost:8080/"
        },
        "id": "osoAHfueJcY3",
        "outputId": "274f0baf-9909-45ef-cff0-f16d03d6ebfd"
      },
      "execution_count": 4,
      "outputs": [
        {
          "output_type": "stream",
          "name": "stdout",
          "text": [
            "Digite o número do registro que deseja exibir (1 a 10): 7\n",
            "Registro 7: Nome: Gabriel Alves, Data de Nascimento: 01/09/1995, Data de Cadastro: 01/09/2017 às 23:10 horas\n"
          ]
        }
      ]
    }
  ]
}